{
 "cells": [
  {
   "cell_type": "code",
   "execution_count": 4,
   "id": "d79edb85",
   "metadata": {},
   "outputs": [
    {
     "data": {
      "text/plain": [
       "[{'key1': 'value1'},\n",
       " {'k1': 'v1', 'k2': 'v2', 'k3': 'v3'},\n",
       " {},\n",
       " {},\n",
       " {'key1': 'value1'},\n",
       " {'key1': 'value1'},\n",
       " {'key2': 'value2'}]"
      ]
     },
     "execution_count": 4,
     "metadata": {},
     "output_type": "execute_result"
    }
   ],
   "source": [
    "DICT_OBJ = [{\"key1\": \"value1\"}, {\"k1\": \"v1\", \"k2\": \"v2\", \"k3\": \"v3\"}, {}, {}, {\"key1\": \"value1\"}, {\"key1\": \"value1\"}, {\"key2\": \"value2\"}]\n",
    "DICT_OBJ\n"
   ]
  },
  {
   "cell_type": "code",
   "execution_count": 27,
   "id": "4d6e4488",
   "metadata": {},
   "outputs": [],
   "source": [
    "def del_duplicate(objects):\n",
    "    return [dict(e) for e in set(frozenset(i.items()) for i in objects)]"
   ]
  },
  {
   "cell_type": "code",
   "execution_count": 28,
   "id": "3d41d678",
   "metadata": {},
   "outputs": [
    {
     "data": {
      "text/plain": [
       "[{'key1': 'value1'},\n",
       " {'k2': 'v2', 'k3': 'v3', 'k1': 'v1'},\n",
       " {'key2': 'value2'},\n",
       " {}]"
      ]
     },
     "execution_count": 28,
     "metadata": {},
     "output_type": "execute_result"
    }
   ],
   "source": [
    "del_duplicate(DICT_OBJ)"
   ]
  }
 ],
 "metadata": {
  "kernelspec": {
   "display_name": "Python 3 (ipykernel)",
   "language": "python",
   "name": "python3"
  },
  "language_info": {
   "codemirror_mode": {
    "name": "ipython",
    "version": 3
   },
   "file_extension": ".py",
   "mimetype": "text/x-python",
   "name": "python",
   "nbconvert_exporter": "python",
   "pygments_lexer": "ipython3",
   "version": "3.10.4"
  }
 },
 "nbformat": 4,
 "nbformat_minor": 5
}
