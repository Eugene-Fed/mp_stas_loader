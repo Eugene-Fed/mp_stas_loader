{
 "cells": [
  {
   "cell_type": "code",
   "execution_count": 24,
   "id": "1a7b56e4",
   "metadata": {},
   "outputs": [],
   "source": [
    "import requests\n",
    "import json\n",
    "import sys\n",
    "from pathlib import Path\n",
    "from datetime import datetime, timedelta, date, time"
   ]
  },
  {
   "cell_type": "code",
   "execution_count": 25,
   "id": "cce03a64",
   "metadata": {},
   "outputs": [],
   "source": [
    "# Это единственные 'данные/настройки' в коде. Все остальное вынесено в файл settings.json\n",
    "TEMPLATES_DIR = 'templates'\n",
    "SETTINGS_FILE = 'settings.json'"
   ]
  },
  {
   "cell_type": "code",
   "execution_count": 43,
   "id": "455d3f82",
   "metadata": {},
   "outputs": [],
   "source": [
    "templates_dir = Path(TEMPLATES_DIR)\n",
    "settings_file = Path(SETTINGS_FILE)\n",
    "settings = {}\n",
    "api_keys = {}"
   ]
  },
  {
   "cell_type": "code",
   "execution_count": 44,
   "id": "f1a57a41",
   "metadata": {},
   "outputs": [],
   "source": [
    "def load_settings(templates_dir=TEMPLATES_DIR, settings_file=SETTINGS_FILE, settings=settings):\n",
    "    if settings_file.exists():\n",
    "        with settings_file.open() as f:\n",
    "            settings = json.load(f)\n",
    "    else:\n",
    "        settings_template = templates_dir / settings_file\n",
    "        if settings_template.exists():\n",
    "            with settings_template.open() as f:\n",
    "                settings = json.load(f)\n",
    "                # TODO: добавить интерактивный вввод параметров с дальнейшим сохранением в файл settings.json\n",
    "            with settings_file.open(\"w\", encoding=\"utf-8\") as f:\n",
    "                json.dump(settings, f, indent=4, ensure_ascii=False)\n",
    "\n",
    "        else:\n",
    "            print('Files \"settings.json\" and \"templates/settings.json\" do not exists')\n",
    "            sys.exit(1)"
   ]
  }
 ],
 "metadata": {
  "kernelspec": {
   "display_name": "Python 3 (ipykernel)",
   "language": "python",
   "name": "python3"
  },
  "language_info": {
   "codemirror_mode": {
    "name": "ipython",
    "version": 3
   },
   "file_extension": ".py",
   "mimetype": "text/x-python",
   "name": "python",
   "nbconvert_exporter": "python",
   "pygments_lexer": "ipython3",
   "version": "3.10.4"
  }
 },
 "nbformat": 4,
 "nbformat_minor": 5
}
